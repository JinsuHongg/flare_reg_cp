{
 "cells": [
  {
   "cell_type": "code",
   "execution_count": null,
   "id": "78edb1b9",
   "metadata": {},
   "outputs": [],
   "source": [
    "import numpy as np\n",
    "import pandas as pd\n",
    "import matplotlib.pyplot as plt\n",
    "import matplotlib as mpl"
   ]
  },
  {
   "cell_type": "code",
   "execution_count": null,
   "id": "48987f0f",
   "metadata": {},
   "outputs": [],
   "source": [
    "df_train = pd.read_csv(\"../training/data_split/24image_reg_train.csv\")\n",
    "df_cal = pd.read_csv(\"../training/data_split/24image_reg_cal.csv\")\n",
    "df_test = pd.read_csv(\"../training/data_split/24image_reg_test.csv\")"
   ]
  },
  {
   "cell_type": "code",
   "execution_count": null,
   "id": "6a5d832c",
   "metadata": {},
   "outputs": [],
   "source": [
    "df_train.head()"
   ]
  },
  {
   "cell_type": "code",
   "execution_count": null,
   "id": "de77baf6",
   "metadata": {},
   "outputs": [],
   "source": [
    "train_bin = df_train.groupby('bin').count()['label'].values\n",
    "cal_bin = df_cal.groupby('bin').count()['label'].values\n",
    "test_bin = df_test.groupby('bin').count()['label'].values\n",
    "\n",
    "# data = np.concatenate([train_bin, cal_bin, test_bin], axis = 1)"
   ]
  },
  {
   "cell_type": "code",
   "execution_count": null,
   "id": "38b4c209",
   "metadata": {},
   "outputs": [],
   "source": [
    "# plt.rcParams.update({\n",
    "#     \"font.family\": \"serif\",\n",
    "#     \"font.serif\": \"Times New Roman\",})\n",
    "\n",
    "mpl.rcParams['mathtext.fontset'] = 'stix'  # or 'cm', 'dejavusans', 'custom', 'stixsans'\n",
    "mpl.rcParams['font.family'] = 'serif'  # Match with fontset\n",
    "mpl.rcParams['font.serif'] = ['Times New Roman']  # Match with fontset\n",
    "\n",
    "bins = (\n",
    "    \"$0 \\leq x < 1$\",\n",
    "    \"$1 \\leq x < 2$\",\n",
    "    \"$2 \\leq x < 3$\",\n",
    "    \"$3 \\leq x < 4$\",\n",
    "    \"$4 \\leq x$\" \n",
    ")\n",
    "dataset = {\n",
    "    \"Train\": train_bin,\n",
    "    \"Cal\": cal_bin,\n",
    "    \"Test\": test_bin\n",
    "}\n",
    "width = 0.5\n",
    "\n",
    "fig, ax = plt.subplots()\n",
    "bottom = np.zeros(5)\n",
    "\n",
    "i = 0\n",
    "for key, weight_count in dataset.items():\n",
    "    p = ax.bar(bins, weight_count, width, label=key, bottom=bottom, color = plt.cm.Set2(i))\n",
    "    bottom += weight_count\n",
    "    i += 1\n",
    "\n",
    "# ax.set_title(\"\")\n",
    "ax.legend(loc=\"upper right\")\n",
    "ax.set_xticks([0, 1, 2, 3, 4])\n",
    "ax.set_xticklabels(labels= [\"$0 \\leq x < 1$\", \"$1 \\leq x < 2$\", \"$2 \\leq x < 3$\", \"$3 \\leq x < 4$\", \"$4 \\leq x$\"], fontsize = 14)\n",
    "ax.set_yticks([0, 5000, 10000, 15000, 20000, 25000])\n",
    "ax.set_yticklabels(labels= [0, \"5k\", \"10k\", \"15k\", \"20k\", \"25k\"], fontsize = 16)\n",
    "\n",
    "ax.set_xlabel(\"Bins of target value\", labelpad=15, fontsize = 18)\n",
    "\n",
    "plt.show()"
   ]
  },
  {
   "cell_type": "code",
   "execution_count": null,
   "id": "542602f9",
   "metadata": {},
   "outputs": [],
   "source": []
  }
 ],
 "metadata": {
  "kernelspec": {
   "display_name": "ordcp",
   "language": "python",
   "name": "ordcp"
  },
  "language_info": {
   "codemirror_mode": {
    "name": "ipython",
    "version": 3
   },
   "file_extension": ".py",
   "mimetype": "text/x-python",
   "name": "python",
   "nbconvert_exporter": "python",
   "pygments_lexer": "ipython3",
   "version": "3.11.3"
  }
 },
 "nbformat": 4,
 "nbformat_minor": 5
}
